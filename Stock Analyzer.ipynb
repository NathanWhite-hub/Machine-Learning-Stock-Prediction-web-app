{
 "cells": [
  {
   "cell_type": "code",
   "execution_count": 1,
   "id": "1d49e522",
   "metadata": {},
   "outputs": [],
   "source": [
    "import yfinance as yf\n",
    "import os\n",
    "import json\n",
    "import requests\n",
    "import pandas as pd\n",
    "from user_agent import generate_user_agent, generate_navigator\n",
    "\n",
    "symbol = \"MSFT\"\n",
    "\n",
    "ticker = yf.Ticker(symbol)\n",
    "ticker_hist = ticker.history(period=\"max\")\n",
    "\n",
    "# Save file to json in case we need it later.  This prevents us from having to re-download it every time.\n",
    "df = pd.read_json(ticker_hist.to_json())"
   ]
  },
  {
   "cell_type": "code",
   "execution_count": 3,
   "id": "050d011d",
   "metadata": {},
   "outputs": [],
   "source": []
  },
  {
   "cell_type": "code",
   "execution_count": null,
   "id": "11a71374",
   "metadata": {},
   "outputs": [],
   "source": []
  },
  {
   "cell_type": "code",
   "execution_count": null,
   "id": "97a58a2e",
   "metadata": {},
   "outputs": [],
   "source": []
  }
 ],
 "metadata": {
  "kernelspec": {
   "display_name": "Python 3",
   "language": "python",
   "name": "python3"
  },
  "language_info": {
   "codemirror_mode": {
    "name": "ipython",
    "version": 3
   },
   "file_extension": ".py",
   "mimetype": "text/x-python",
   "name": "python",
   "nbconvert_exporter": "python",
   "pygments_lexer": "ipython3",
   "version": "3.8.8"
  }
 },
 "nbformat": 4,
 "nbformat_minor": 5
}
